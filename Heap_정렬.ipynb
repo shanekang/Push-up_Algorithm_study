{
 "cells": [
  {
   "cell_type": "markdown",
   "metadata": {
    "colab_type": "text",
    "id": "fvAkX1ac5Yk6"
   },
   "source": [
    "## 대표적인 데이터 구조8: 힙"
   ]
  },
  {
   "cell_type": "markdown",
   "metadata": {
    "colab_type": "text",
    "id": "WTC_AFv05Yk8"
   },
   "source": [
    "### 1. 힙 (Heap) 이란?\n",
    "- 힙: 데이터에서 최대값과 최소값을 빠르게 찾기 위해 고안된 완전 이진 트리(Complete Binary Tree)\n",
    "  - 완전 이진 트리: 노드를 삽입할 때 최하단 왼쪽 노드부터 차례대로 삽입하는 트리\n",
    "\n",
    "<img src=\"https://www.fun-coding.org/00_Images/completebinarytree.png\" width=300>\n",
    "\n",
    "- 힙을 사용하는 이유\n",
    "  - 배열에 데이터를 넣고, 최대값과 최소값을 찾으려면 O(n) 이 걸림\n",
    "  - 이에 반해, 힙에 데이터를 넣고, 최대값과 최소값을 찾으면, $ O(log n) $ 이 걸림\n",
    "  - 우선순위 큐와 같이 최대값 또는 최소값을 빠르게 찾아야 하는 자료구조 및 알고리즘 구현 등에 활용됨"
   ]
  },
  {
   "cell_type": "markdown",
   "metadata": {
    "colab_type": "text",
    "id": "d7syDSFu5Yk-"
   },
   "source": [
    "### 2. 힙 (Heap) 구조\n",
    "- 힙은 최대값을 구하기 위한 구조 (최대 힙, Max Heap) 와, 최소값을 구하기 위한 구조 (최소 힙, Min Heap) 로 분류할 수 있음\n",
    "- 힙은 다음과 같이 두 가지 조건을 가지고 있는 자료구조임\n",
    "  1. 각 노드의 값은 해당 노드의 자식 노드가 가진 값보다 크거나 같다. (최대 힙의 경우)\n",
    "     - 최소 힙의 경우는 각 노드의 값은 해당 노드의 자식 노드가 가진 값보다 크거나 작음\n",
    "  2. 완전 이진 트리 형태를 가짐\n",
    "\n",
    "### 힙과 이진 탐색 트리의 공통점과 차이점\n",
    "- 공통점: 힙과 이진 탐색 트리는 모두 이진 트리임\n",
    "- 차이점: \n",
    "  - 힙은 각 노드의 값이 자식 노드보다 크거나 같음(Max Heap의 경우)\n",
    "  - 이진 탐색 트리는 왼쪽 자식 노드의 값이 가장 작고, 그 다음 부모 노드, 그 다음 오른쪽 자식 노드 값이 가장 큼\n",
    "  - 힙은 이진 탐색 트리의 조건인 자식 노드에서 작은 값은 왼쪽, 큰 값은 오른쪽이라는 조건은 없음\n",
    "    - 힙의 왼쪽 및 오른쪽 자식 노드의 값은 오른쪽이 클 수도 있고, 왼쪽이 클 수도 있음\n",
    "- 이진 탐색 트리는 탐색을 위한 구조, 힙은 최대/최소값 검색을 위한 구조 중 하나로 이해하면 됨  \n",
    "<img src=\"https://www.fun-coding.org/00_Images/completebinarytree_bst.png\" width=\"800\" />\n"
   ]
  },
  {
   "cell_type": "markdown",
   "metadata": {
    "colab_type": "text",
    "id": "SkOWPlqq5YlB"
   },
   "source": [
    "### 3. 힙 구현\n",
    "### 힙과 배열\n",
    "- 일반적으로 힙 구현시 배열 자료구조를 활용함\n",
    "- 배열은 인덱스가 0번부터 시작하지만, 힙 구현의 편의를 위해, root 노드 인덱스 번호를 1로 지정하면, 구현이 좀더 수월함\n",
    "  - 부모 노드 인덱스 번호 (parent node's index) = 자식 노드 인덱스 번호 (child node's index) // 2\n",
    "  - 왼쪽 자식 노드 인덱스 번호 (left child node's index) = 부모 노드 인덱스 번호 (parent node's index) * 2\n",
    "  - 오른쪽 자식 노드 인덱스 번호 (right child node's index) = 부모 노드 인덱스 번호 (parent node's index) * 2 + 1\n",
    "<img src=\"https://www.fun-coding.org/00_Images/heap_array.png\" width=400>"
   ]
  },
  {
   "cell_type": "code",
   "execution_count": null,
   "metadata": {
    "colab": {},
    "colab_type": "code",
    "id": "Ze3Y2-bE5YlC",
    "outputId": "043ec179-4df9-4b49-c8e6-fd643b3c0ff3"
   },
   "outputs": [
    {
     "data": {
      "text/plain": [
       "1"
      ]
     },
     "execution_count": 4,
     "metadata": {
      "tags": []
     },
     "output_type": "execute_result"
    }
   ],
   "source": [
    "# 예1 - 10 노드의 부모 노드 인덱스\n",
    "2 // 2"
   ]
  },
  {
   "cell_type": "code",
   "execution_count": null,
   "metadata": {
    "colab": {},
    "colab_type": "code",
    "id": "prpzsESr5YlG",
    "outputId": "076a1e1e-8860-47a6-83f5-682726456b42"
   },
   "outputs": [
    {
     "data": {
      "text/plain": [
       "2"
      ]
     },
     "execution_count": 6,
     "metadata": {
      "tags": []
     },
     "output_type": "execute_result"
    }
   ],
   "source": [
    "# 예1 - 15 노드의 왼쪽 자식 노드 인덱스 번호\n",
    "1 * 2"
   ]
  },
  {
   "cell_type": "code",
   "execution_count": null,
   "metadata": {
    "colab": {
     "base_uri": "https://localhost:8080/",
     "height": 35
    },
    "colab_type": "code",
    "id": "xnl5gGjY5YlJ",
    "outputId": "c108c597-f012-43ab-ef10-982f8b722915"
   },
   "outputs": [
    {
     "data": {
      "text/plain": [
       "3"
      ]
     },
     "execution_count": 1,
     "metadata": {
      "tags": []
     },
     "output_type": "execute_result"
    }
   ],
   "source": [
    "# 예1 - 15 노드의 오른쪽 자식 노드 인덱스 번호\n",
    "1 * 2 + 1"
   ]
  },
  {
   "cell_type": "markdown",
   "metadata": {
    "colab_type": "text",
    "id": "fkf0vCkJ5Ylj"
   },
   "source": [
    "### 4. 힙 데이터 삭제 (Max Heap 예)"
   ]
  },
  {
   "cell_type": "markdown",
   "metadata": {
    "colab_type": "text",
    "id": "Pn6tS22o5Ylo"
   },
   "source": [
    "- 보통 삭제는 최상단 노드 (root 노드)를 삭제하는 것이 일반적임\n",
    "  - 힙의 용도는 최대값 또는 최소값을 root 노드에 놓아서, 최대값과 최소값을 바로 꺼내 쓸 수 있도록 하는 것임\n",
    "\n",
    "- 힙 클래스 구현 - remove\n",
    "  - 상단의 데이터 삭제시, 가장 최하단부 왼쪽에 위치한 노드 (일반적으로 가장 마지막에 추가한 노드) 를 root 노드로 이동\n",
    "  - root 노드의 값이 child node 보다 작을 경우, root 노드의 child node 중 가장 큰 값을 가진 노드와 root 노드 위치를 바꿔주는 작업을 반복함 (swap)\n",
    "---\n",
    "- 특정 노드의 관련 노드 위치 알아내기\n",
    "  - 부모 노드 인덱스 번호 (parent node's index) = 자식 노드 인덱스 번호 (child node's index) // 2\n",
    "  - 왼쪽 자식 노드 인덱스 번호 (left child node's index) = 부모 노드 인덱스 번호 (parent node's index) * 2\n",
    "  - 오른쪽 자식 노드 인덱스 번호 (right child node's index) = 부모 노드 인덱스 번호 (parent node's index) * 2 + 1\n",
    "\n",
    "<img src=\"https://www.fun-coding.org/00_Images/heap_remove.png\">"
   ]
  },
  {
   "cell_type": "markdown",
   "metadata": {
    "colab_type": "text",
    "id": "AZ4gnI7D5DM4"
   },
   "source": [
    "### 힙 정렬 구현 (Max Heap 예)"
   ]
  },
  {
   "cell_type": "code",
   "execution_count": null,
   "metadata": {
    "colab": {},
    "colab_type": "code",
    "id": "4--K-yWT43mo"
   },
   "outputs": [],
   "source": [
    "class MaxHeap:\n",
    "    # 빈 힙을 생성\n",
    "    def __init__(self):\n",
    "        self.data = [None, 30, 24,12,18,21,8,6,4,2,19]\n",
    "                \n",
    "                \n",
    "    def remove(self):\n",
    "        # 하나이상의 노드가 존재하는 경우\n",
    "        if len(self.data) > 1:\n",
    "            # 맨마지막 원소와 위치바꾸기\n",
    "            self.data[1], self.data[-1] = self.data[-1], self.data[1]\n",
    "            data = self.data.pop(-1)\n",
    "            self.maxHeapify(1)\n",
    "        else:\n",
    "            data = None\n",
    "        return data\n",
    "    \n",
    "    \n",
    "    def maxHeapify(self, i):\n",
    "        # i는 어느 기준으로 바꿀건가\n",
    "        \n",
    "        # 왼쪽 자식 (left child) 의 인덱스를 계산합니다.\n",
    "        left = i * 2\n",
    "        # 오른쪽 자식 (right child) 의 인덱스를 계산합니다.\n",
    "        right = i * 2 + 1\n",
    "        greatest = i\n",
    "        \n",
    "        # 자신(i), 왼쪽자식(left), 오른쪽자식(right) 중 최대를 찾아서 이것의 인덱스를 greatest에 담는다\n",
    "        # 왼쪽 자식이 존재하는지, 그리고 왼쪽 자식의 (키) 값이 (무엇보다?) 더 큰지를 판단합니다.\n",
    "        if left < len(self.data) and self.data[left] > self.data[greatest]:\n",
    "            # 조건이 만족하는 경우, smallest 는 왼쪽 자식의 인덱스를 가집니다.\n",
    "            greatest = left\n",
    "\n",
    "        # 오른쪽 자식이 존재하는지, 그리고 오른쪽 자식의 (키) 값이 (무엇보다?) 더 큰지를 판단합니다.\n",
    "        if right < len(self.data) and self.data[right] > self.data[greatest]:\n",
    "            # 조건이 만족하는 경우, smallest 는 오른쪽 자식의 인덱스를 가집니다.\n",
    "            greatest = right\n",
    "            \n",
    "        # 만약 이 인덱스가 i와 같지 않다면 자식들 중에 나보다 큰 키값을 가진 노드가 발견된 경우\n",
    "        if greatest != i:\n",
    "            # 현재 노드 (인덱스 i) 와 최댓값 노드 (왼쪽 아니면 오른쪽 자식) 를 교체합니다.\n",
    "            self.data[i], self.data[greatest] = self.data[greatest], self.data[i]\n",
    "            # 재귀적 호출을 이용하여 최대 힙의 성질을 만족할 때까지 트리를 정리합니다.\n",
    "            self.maxHeapify(greatest)\n",
    "     \n",
    "     \n",
    "    def heapSort(self):\n",
    "        sorted = []\n",
    "        d = self.remove()\n",
    "        while d:\n",
    "            sorted.append(d)\n",
    "            d = self.remove()\n",
    "        return sorted\n",
    "\n",
    "\n",
    "h = MaxHeap()\n",
    "\n",
    "print(h.data)\n",
    "h.remove()\n",
    "print(h.data)\n",
    "\n",
    "h.heapSort()"
   ]
  },
  {
   "cell_type": "markdown",
   "metadata": {
    "colab_type": "text",
    "id": "DPsm7Jya6iaW"
   },
   "source": [
    "### 5. heapq 모듈 (최소힙)\n",
    "\n"
   ]
  },
  {
   "cell_type": "code",
   "execution_count": 5,
   "metadata": {
    "colab": {},
    "colab_type": "code",
    "id": "m-ijLbpn6s0g"
   },
   "outputs": [
    {
     "name": "stdout",
     "output_type": "stream",
     "text": [
      "[1, 3, 7, 4]\n"
     ]
    }
   ],
   "source": [
    "import heapq\n",
    "\n",
    "# 최소 힙 생성 : 리스트\n",
    "heap = []\n",
    "\n",
    "# 힙에 요소 추가 - heappush(배열이름, 요소)\n",
    "heapq.heappush(heap, 4)\n",
    "heapq.heappush(heap, 1)\n",
    "heapq.heappush(heap, 7)\n",
    "heapq.heappush(heap, 3)\n",
    "print(heap)\n",
    "\n",
    "# cf) sort와 달리 heapq는 전체를 정렬해주지 않고, 가장 작은 값을 가지는 원소를 리스트의 맨 앞에 정렬한다."
   ]
  },
  {
   "cell_type": "code",
   "execution_count": 6,
   "metadata": {
    "colab": {},
    "colab_type": "code",
    "id": "Icpz45RY7tLV"
   },
   "outputs": [
    {
     "name": "stdout",
     "output_type": "stream",
     "text": [
      "[3, 4, 7]\n"
     ]
    }
   ],
   "source": [
    "# 힙 요소 삭제 - heappop()\n",
    "heapq.heappop(heap)\n",
    "print(heap)"
   ]
  },
  {
   "cell_type": "code",
   "execution_count": 7,
   "metadata": {
    "colab": {},
    "colab_type": "code",
    "id": "m4cpJ7bV8EfY"
   },
   "outputs": [
    {
     "name": "stdout",
     "output_type": "stream",
     "text": [
      "[1, 3, 5, 4, 8, 7]\n"
     ]
    }
   ],
   "source": [
    "# 기존 리스트를 힙으로 변환 - heapify()\n",
    "\n",
    "heap = [4, 1, 7, 3, 8, 5]\n",
    "heapq.heapify(heap)\n",
    "print(heap)"
   ]
  },
  {
   "cell_type": "code",
   "execution_count": 8,
   "metadata": {
    "colab": {},
    "colab_type": "code",
    "id": "cSFT2CDt8TbY"
   },
   "outputs": [
    {
     "name": "stdout",
     "output_type": "stream",
     "text": [
      "5\n",
      "4\n",
      "3\n",
      "2\n",
      "1\n"
     ]
    }
   ],
   "source": [
    "# Maxheap 구현\n",
    "\n",
    "a = [3,5,2,4,1]\n",
    "heap = [] \n",
    "\n",
    "for i in a:\n",
    "    heapq.heappush(heap, -i)\n",
    "\n",
    "for i in range(len(heap)):\n",
    "    print(-heapq.heappop(heap))"
   ]
  },
  {
   "cell_type": "code",
   "execution_count": 9,
   "metadata": {
    "colab": {},
    "colab_type": "code",
    "id": "a9DJvUwM-XFU"
   },
   "outputs": [
    {
     "name": "stdout",
     "output_type": "stream",
     "text": [
      "[1, 3, 4, 5, 7, 8]\n"
     ]
    }
   ],
   "source": [
    "# heap 정렬\n",
    "\n",
    "import heapq\n",
    "\n",
    "def heap_sort(nums):\n",
    "  heap = []\n",
    "  for num in nums:\n",
    "    heapq.heappush(heap, num)\n",
    "  \n",
    "  # heap[0]이 해당 리스트의 최소값인 것은 확실하지만, heap[1]이 두번째로 작은 원소라고는 할 수 없다. \n",
    "  # 그러므로 두번째 작은 값을 얻고 싶다면 heap[1]이 아니라 heapq.heappop(heap)을 통해 가장 작은 원소를 리스트에 append 해준다.\n",
    "  sorted_nums = []\n",
    "  while heap:\n",
    "    sorted_nums.append(heapq.heappop(heap))\n",
    "  return sorted_nums\n",
    "\n",
    "print(heap_sort([4, 1, 7, 3, 8, 5]))"
   ]
  }
 ],
 "metadata": {
  "colab": {
   "collapsed_sections": [],
   "name": "Heap 정렬(이세나).ipynb",
   "provenance": []
  },
  "kernelspec": {
   "display_name": "Python 3",
   "language": "python",
   "name": "python3"
  },
  "language_info": {
   "codemirror_mode": {
    "name": "ipython",
    "version": 3
   },
   "file_extension": ".py",
   "mimetype": "text/x-python",
   "name": "python",
   "nbconvert_exporter": "python",
   "pygments_lexer": "ipython3",
   "version": "3.7.6"
  },
  "nbTranslate": {
   "displayLangs": [
    "*"
   ],
   "hotkey": "alt-t",
   "langInMainMenu": true,
   "sourceLang": "en",
   "targetLang": "fr",
   "useGoogleTranslate": true
  }
 },
 "nbformat": 4,
 "nbformat_minor": 1
}
